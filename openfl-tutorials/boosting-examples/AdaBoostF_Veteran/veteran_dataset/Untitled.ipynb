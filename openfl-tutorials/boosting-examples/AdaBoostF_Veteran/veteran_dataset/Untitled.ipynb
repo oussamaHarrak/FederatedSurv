{
 "cells": [
  {
   "cell_type": "code",
   "execution_count": null,
   "id": "5a248ccc",
   "metadata": {},
   "outputs": [],
   "source": [
    "import pandas as pd\n",
    "print(\"Zbi\")"
   ]
  },
  {
   "cell_type": "code",
   "execution_count": null,
   "id": "ae45889f",
   "metadata": {},
   "outputs": [],
   "source": [
    "df = pd.read_csv(\"veteran.txt\", sep=\"\\s+\", header=None, names=[\"Treatment\", \"Celltype\", \"Survival\", \"Status\", \"Karnofsky\", \"Months\", \"Age\", \"Therapy\"])"
   ]
  }
 ],
 "metadata": {
  "kernelspec": {
   "display_name": "Python 3",
   "language": "python",
   "name": "python3"
  }
 },
 "nbformat": 4,
 "nbformat_minor": 5
}
